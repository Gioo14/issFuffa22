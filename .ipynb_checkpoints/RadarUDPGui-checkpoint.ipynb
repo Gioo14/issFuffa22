{
 "cells": [
  {
   "cell_type": "code",
   "execution_count": null,
   "id": "732b7049",
   "metadata": {},
   "outputs": [],
   "source": [
    "##############################################################\n",
    "# UDP-Send a msg to the RadarGui on 8080\n",
    "##############################################################\n",
    "import socket\n",
    "import time\n",
    "\n",
    "hostAdress     = '192.168.205.78'\n",
    "port           = 8015\n",
    "msgTemplate    = msg= \"{ \\\"distance\\\" : D , \\\"angle\\\" : 60 }\" \n",
    "\n",
    "sock          = socket.socket(socket.AF_INET, socket.SOCK_DGRAM)\n",
    "\n",
    "def console() :  \n",
    "    print(\"Inserisci distanza:\")\n",
    "    cmd =  str( input() )\n",
    "    while( cmd != \"chiudi\") :\n",
    "        msg = msgTemplate.replace(\"D\", cmd)\n",
    "        print(\"Inserisci angolo:\")\n",
    "        cmd = stf(input())\n",
    "        msg = msg.replace(\"A\",cmd)\n",
    "        forward(msg)\n",
    "        print(\"Inserisci distanza:\")\n",
    "        cmd =  str(input())\n",
    "        \n",
    "def forward( message ) :\n",
    "    print(\"INVIO DEL MESSAGGIO:\", message)\n",
    "    sock.sendto(message.encode(), (hostAdress, port))     \n",
    "##################################################\n",
    "console()"
   ]
  }
 ],
 "metadata": {
  "kernelspec": {
   "display_name": "Python 3 (ipykernel)",
   "language": "python",
   "name": "python3"
  },
  "language_info": {
   "codemirror_mode": {
    "name": "ipython",
    "version": 3
   },
   "file_extension": ".py",
   "mimetype": "text/x-python",
   "name": "python",
   "nbconvert_exporter": "python",
   "pygments_lexer": "ipython3",
   "version": "3.9.7"
  }
 },
 "nbformat": 4,
 "nbformat_minor": 5
}
